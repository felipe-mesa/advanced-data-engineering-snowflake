{
 "metadata": {
  "kernelspec": {
   "display_name": "Streamlit Notebook",
   "name": "streamlit"
  },
  "lastEditStatus": {
   "notebookId": "tnasdjz4id7rpzvl446j",
   "authorId": "329086621861",
   "authorName": "FMESA",
   "authorEmail": "felipe.mesa@evalueserve.com",
   "sessionId": "d4dc076a-dfcf-4397-95a1-9f75c7ef8944",
   "lastEditTime": 1755208727758
  }
 },
 "nbformat_minor": 5,
 "nbformat": 4,
 "cells": [
  {
   "cell_type": "code",
   "id": "88e55e82-59a1-42d3-9ee2-5acd915b762f",
   "metadata": {
    "language": "python",
    "name": "cell1"
   },
   "outputs": [],
   "source": "import wheel_loader\nimport os",
   "execution_count": null
  },
  {
   "cell_type": "code",
   "id": "700f0ebe-cc09-4431-8ce2-c7cb68767749",
   "metadata": {
    "language": "python",
    "name": "cell2"
   },
   "outputs": [],
   "source": "wheel_loader.add_wheels('@\"HANA_TEST_DB\".\"HANA_TEST_SCHEMA\".\"HANA_STAGE\"/hdbcli-2.25.29-cp38-abi3-musllinux_1_2_x86_64.whl')",
   "execution_count": null
  },
  {
   "cell_type": "code",
   "id": "83e8e3f3-345d-45f5-9340-a2d96bd0e578",
   "metadata": {
    "language": "python",
    "name": "cell19"
   },
   "outputs": [],
   "source": "files = os.listdir('/tmp/@hana_stage/hdbcli-2.25.29-cp38-abi3-musllinux_1_2_x86_64')\nprint(files)",
   "execution_count": null
  },
  {
   "cell_type": "code",
   "id": "6752812b-74d5-46d3-bc14-4e66568819d1",
   "metadata": {
    "language": "python",
    "name": "cell21"
   },
   "outputs": [],
   "source": "os.chdir('/tmp/@hana_stage/hdbcli-2.25.29-cp38-abi3-musllinux_1_2_x86_64')",
   "execution_count": null
  },
  {
   "cell_type": "code",
   "id": "78607f7f-5a2b-454c-99c6-4ce12934c5cd",
   "metadata": {
    "language": "python",
    "name": "cell20"
   },
   "outputs": [],
   "source": "whl_name = 'hdbcli-2.25.29-cp38-abi3-musllinux_1_2_x86_64.whl'\nprint(whl_name.split('.whl')[0])",
   "execution_count": null
  },
  {
   "cell_type": "code",
   "id": "1b30a063-f97e-472e-9137-89b6da51838d",
   "metadata": {
    "language": "python",
    "name": "cell3"
   },
   "outputs": [],
   "source": "from hdbcli import dbapi",
   "execution_count": null
  },
  {
   "cell_type": "code",
   "id": "fea0ac73-79a3-4b69-9fc6-48532a37f68c",
   "metadata": {
    "language": "python",
    "name": "cell4"
   },
   "outputs": [],
   "source": "import os\nprint(os.getcwd())\nfiles = os.listdir('/tmp/')\nprint(files)",
   "execution_count": null
  },
  {
   "cell_type": "code",
   "id": "4e99b541-f4f3-40d4-b049-752818da2718",
   "metadata": {
    "language": "python",
    "name": "cell6"
   },
   "outputs": [],
   "source": "os.chdir('/tmp/')\nprint(os.getcwd())",
   "execution_count": null
  },
  {
   "cell_type": "code",
   "id": "f21f2872-8af3-455c-a0c5-ebbf27974abb",
   "metadata": {
    "language": "python",
    "name": "cell7"
   },
   "outputs": [],
   "source": "files = os.listdir()\nprint(files)",
   "execution_count": null
  },
  {
   "cell_type": "code",
   "id": "5e61d9cf-30f7-4790-ac48-cfb401936446",
   "metadata": {
    "language": "python",
    "name": "cell5"
   },
   "outputs": [],
   "source": "import zipfile\n \nwith zipfile.ZipFile('hdbcli-2.25.29-cp38-abi3-musllinux_1_2_x86_64.whl', 'r') as h_zip:\n    h_zip.extractall()\n    ",
   "execution_count": null
  },
  {
   "cell_type": "markdown",
   "id": "1b2fdac2-4f5c-49c2-b352-08cc78d3c8f2",
   "metadata": {
    "name": "cell10",
    "collapsed": false
   },
   "source": "Take 2"
  },
  {
   "cell_type": "code",
   "id": "d600a312-bb58-4a57-86fb-c4725ab9d27e",
   "metadata": {
    "language": "python",
    "name": "cell9"
   },
   "outputs": [],
   "source": "import sys, os\nimport threading\nimport fcntl\nimport zipfile\nfrom pathlib import Path\nimport logging\nfrom functools import lru_cache\nimport tarfile",
   "execution_count": null
  },
  {
   "cell_type": "code",
   "id": "6b7d52de-57ef-43d5-bf4c-0dfc45a277a8",
   "metadata": {
    "language": "python",
    "name": "cell8"
   },
   "outputs": [],
   "source": "import snowflake.snowpark\nsession = snowflake.snowpark.Session.builder.getOrCreate()\nos.makedirs(\"/tmp/whl_download/\",exist_ok=True)\nzip_name = '@\"HANA_TEST_DB\".\"HANA_TEST_SCHEMA\".\"HANA_STAGE\"/hdbcli.zip'\nsession.file.get(zip_name,\"/tmp/whl_download/\")",
   "execution_count": null
  },
  {
   "cell_type": "code",
   "id": "96fcd4c5-fb9b-433f-8282-727a394c46a9",
   "metadata": {
    "language": "python",
    "name": "cell11"
   },
   "outputs": [],
   "source": "print(os.getcwd())",
   "execution_count": null
  },
  {
   "cell_type": "code",
   "id": "f1d60afd-bf3e-41ce-8748-0ad163cf1413",
   "metadata": {
    "language": "python",
    "name": "cell18"
   },
   "outputs": [],
   "source": "import os",
   "execution_count": null
  },
  {
   "cell_type": "code",
   "id": "3ce74184-5fab-48c9-a8e6-bf1ea1453924",
   "metadata": {
    "language": "python",
    "name": "cell12"
   },
   "outputs": [],
   "source": "files = os.listdir('/tmp/')\nprint(files)",
   "execution_count": null
  },
  {
   "cell_type": "code",
   "id": "ade413a9-4ee2-428a-b5f2-5af6d35540a0",
   "metadata": {
    "language": "python",
    "name": "cell13"
   },
   "outputs": [],
   "source": "with zipfile.ZipFile('/tmp/whl_download/hdbcli.zip', 'r') as h_zip:\n    h_zip.extractall()",
   "execution_count": null
  },
  {
   "cell_type": "code",
   "id": "b7b391a6-c455-4a57-b2de-960c7b7e0645",
   "metadata": {
    "language": "python",
    "name": "cell14"
   },
   "outputs": [],
   "source": "print(os.getcwd())\nfiles = os.listdir(os.getcwd())\nprint(files)",
   "execution_count": null
  },
  {
   "cell_type": "code",
   "id": "b4bdf9d5-0d5c-4621-9375-9ada5a08ca0e",
   "metadata": {
    "language": "python",
    "name": "cell15"
   },
   "outputs": [],
   "source": "files = os.listdir('/tmp/appRoot/hdbcli')\nprint(files)",
   "execution_count": null
  },
  {
   "cell_type": "code",
   "id": "84720009-db5a-4d87-bd62-f9c2306c59cb",
   "metadata": {
    "language": "python",
    "name": "cell16"
   },
   "outputs": [],
   "source": "os.chdir('/tmp/appRoot/hdbcli')\nprint(os.getcwd())",
   "execution_count": null
  },
  {
   "cell_type": "code",
   "id": "bfbb70bb-558e-41cd-95c8-88163048d8df",
   "metadata": {
    "language": "python",
    "name": "cell17"
   },
   "outputs": [],
   "source": "import dbapi",
   "execution_count": null
  }
 ]
}